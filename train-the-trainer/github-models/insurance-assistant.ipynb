{
 "cells": [
  {
   "cell_type": "markdown",
   "metadata": {},
   "source": [
    "# Incident Report from video"
   ]
  },
  {
   "cell_type": "code",
   "execution_count": null,
   "metadata": {},
   "outputs": [],
   "source": [
    "import os\n",
    "import cv2\n",
    "import math\n",
    "import numpy as np\n",
    "from azure.ai.inference import ChatCompletionsClient\n",
    "from azure.ai.inference.models import (\n",
    "    SystemMessage,\n",
    "    UserMessage,\n",
    "    TextContentItem,\n",
    "    ImageContentItem,\n",
    "    ImageUrl,\n",
    "    ImageDetailLevel,\n",
    ")\n",
    "from azure.core.credentials import AzureKeyCredential"
   ]
  },
  {
   "cell_type": "code",
   "execution_count": null,
   "metadata": {},
   "outputs": [],
   "source": [
    "video_file = \"data/insurance_v3.mp4\"\n",
    "number_of_frames = 14\n",
    "\n",
    "# Create the directory to store the frames\n",
    "os.makedirs(\"data/frames\", exist_ok=True)\n",
    "\n",
    "# Extract the frames from the video\n",
    "video = cv2.VideoCapture(video_file)\n",
    "frames = []\n",
    "while video.isOpened():\n",
    "    success, frame = video.read()\n",
    "    if not success:\n",
    "        break\n",
    "    _, buffer = cv2.imencode(\".jpg\", frame)\n",
    "    frames.append(buffer)\n",
    "video.release()\n",
    "\n",
    "# Save the frames\n",
    "for i, frame in enumerate(frames[::math.ceil(len(frames) / number_of_frames)]):\n",
    "    image = cv2.imdecode(np.frombuffer(frame, np.uint8), cv2.IMREAD_COLOR)\n",
    "    cv2.imwrite(f\"data/frames/frame_{i}.jpg\", image)"
   ]
  },
  {
   "cell_type": "code",
   "execution_count": null,
   "metadata": {},
   "outputs": [],
   "source": [
    "endpoint = \"https://models.inference.ai.azure.com\"\n",
    "model_name = \"gpt-4o\" #\"gpt-4o-mini\"\n",
    "token = os.environ[\"GITHUB_TOKEN\"]\n",
    "\n",
    "client = ChatCompletionsClient(\n",
    "    endpoint=endpoint,\n",
    "    credential=AzureKeyCredential(token),\n",
    ")\n",
    "\n",
    "response = client.complete(\n",
    "    messages=[\n",
    "        SystemMessage(content=\"You are a helpful assistant.\"),\n",
    "        UserMessage (\n",
    "            content=[\n",
    "                TextContentItem(text=\"\"\"\n",
    "                    You are an expert in evaluating car damage from car accidents for auto insurance reporting. \n",
    "                    Create an incident report for the accident shown in the video with 3 sections. \n",
    "\n",
    "                    Section 1 will include the car details (license plate, car make, car model, approximant model year, color, mileage).\n",
    "                    Section 2 list the car damage, per damage in a list \n",
    "                    Section 3 will only include exactly 6 sentence description of the car damage.\n",
    "                \"\"\"),\n",
    "                *[ImageContentItem(image_url=ImageUrl.load(image_file=os.path.join(\"data/frames\", filename), \n",
    "                                                           image_format=\"jpg\", \n",
    "                                                           detail=ImageDetailLevel.LOW)) \n",
    "                    for filename in os.listdir(\"data/frames\")]\n",
    "            ]\n",
    "        ),\n",
    "    ],\n",
    "    model=model_name,\n",
    "    temperature=1.,\n",
    "    max_tokens=4096,\n",
    "    top_p=1.\n",
    ")\n",
    "\n",
    "print(response.choices[0].message.content)"
   ]
  }
 ],
 "metadata": {
  "kernelspec": {
   "display_name": "Python 3",
   "language": "python",
   "name": "python3"
  },
  "language_info": {
   "codemirror_mode": {
    "name": "ipython",
    "version": 3
   },
   "file_extension": ".py",
   "mimetype": "text/x-python",
   "name": "python",
   "nbconvert_exporter": "python",
   "pygments_lexer": "ipython3",
   "version": "3.11.9"
  }
 },
 "nbformat": 4,
 "nbformat_minor": 2
}
