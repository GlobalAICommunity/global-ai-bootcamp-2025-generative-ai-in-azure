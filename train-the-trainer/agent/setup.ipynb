{
 "cells": [
  {
   "cell_type": "code",
   "execution_count": 23,
   "metadata": {},
   "outputs": [],
   "source": [
    "import json\n",
    "from openai import AzureOpenAI\n",
    "import time\n",
    "import os\n",
    "from datetime import datetime"
   ]
  },
  {
   "cell_type": "code",
   "execution_count": 32,
   "metadata": {},
   "outputs": [],
   "source": [
    "client  = AzureOpenAI(\n",
    "    api_key = \"fe96427f0ca049838844dea132dff8bc\", #os.getenv(\"OPENAI_API_KEY\"),\n",
    "    azure_endpoint = \"https://swedencentral.api.cognitive.microsoft.com/\", #os.getenv(\"OPENAI_API_BASE\"),\n",
    "    api_version = \"2024-02-15-preview\" #os.getenv(\"OPENAI_API_VERSION\")\n",
    ")"
   ]
  },
  {
   "cell_type": "code",
   "execution_count": 33,
   "metadata": {},
   "outputs": [],
   "source": [
    "tools_list = [\n",
    "    {\n",
    "        \"type\": \"code_interpreter\"\n",
    "    }\n",
    "]\n",
    "\n",
    "instructions = (\n",
    "    \"You are a sales analysis assistant for contoso.\",\n",
    "    \"Please be polite, professional, helpful, and friendly.\",\n",
    "    \"You get all the sales data from this app using the functions provided.\",\n",
    "    \"If question is not related to the sales or you cannot answer the question, \",\n",
    "    \"say, 'contact IT for more assistance.' \",\n",
    "    \"If the user asks for help or says 'help', provide a list of sample questions that you can answer.\",\n",
    "    f\"The current date and time is: {datetime.now().strftime('%x %X')}.\",\n",
    ")\n",
    "\n",
    "assistant = client.beta.assistants.create(\n",
    "    name=\"Portfolio Management Assistant\",\n",
    "    model=\"gpt-4o\",\n",
    "    instructions=str(instructions),\n",
    "    tools=tools_list,\n",
    ")"
   ]
  },
  {
   "cell_type": "code",
   "execution_count": 34,
   "metadata": {},
   "outputs": [
    {
     "name": "stdout",
     "output_type": "stream",
     "text": [
      "asst_0otHx9MEqlWgwXl5KWKdnSZQ\n"
     ]
    }
   ],
   "source": [
    "print(assistant.id)"
   ]
  },
  {
   "cell_type": "code",
   "execution_count": 35,
   "metadata": {},
   "outputs": [],
   "source": [
    "thread = client.beta.threads.create()"
   ]
  },
  {
   "cell_type": "code",
   "execution_count": 36,
   "metadata": {},
   "outputs": [],
   "source": [
    "# Add a user question to the thread\n",
    "message = client.beta.threads.messages.create(\n",
    "    thread_id=thread.id,\n",
    "    role=\"user\",\n",
    "    content=\"hi\" # Replace this with your prompt\n",
    ")\n",
    "\n",
    "# Run the thread\n",
    "run = client.beta.threads.runs.create(\n",
    "  thread_id=thread.id,\n",
    "  assistant_id=assistant.id\n",
    ")"
   ]
  },
  {
   "cell_type": "code",
   "execution_count": 38,
   "metadata": {},
   "outputs": [
    {
     "name": "stdout",
     "output_type": "stream",
     "text": [
      "ja\n",
      "SyncCursorPage[Message](data=[Message(id='msg_fAUg4IWAgSZWjapf5LyC3JYT', assistant_id='asst_0otHx9MEqlWgwXl5KWKdnSZQ', attachments=None, completed_at=None, content=[TextContentBlock(text=Text(annotations=[], value='Hello! How can I assist you today with your sales data?'), type='text')], created_at=1723042020, incomplete_at=None, incomplete_details=None, metadata={}, object='thread.message', role='assistant', run_id='run_uKqfvxvjoCHoib16foBTZiW2', status=None, thread_id='thread_d6uRrMTUPAIp9CFLkKeYBChr', file_ids=[]), Message(id='msg_FQHoSfiyHXWWIlxUrEnPxnqV', assistant_id=None, attachments=None, completed_at=None, content=[TextContentBlock(text=Text(annotations=[], value='hi'), type='text')], created_at=1723042006, incomplete_at=None, incomplete_details=None, metadata={}, object='thread.message', role='user', run_id=None, status=None, thread_id='thread_d6uRrMTUPAIp9CFLkKeYBChr', file_ids=[])], object='list', first_id='msg_fAUg4IWAgSZWjapf5LyC3JYT', last_id='msg_FQHoSfiyHXWWIlxUrEnPxnqV', has_more=False)\n"
     ]
    }
   ],
   "source": [
    "# Looping until the run completes or fails\n",
    "while run.status in ['queued', 'in_progress', 'cancelling']:\n",
    "    time.sleep(1)\n",
    "    run = client.beta.threads.runs.retrieve(\n",
    "        thread_id=thread.id,\n",
    "        run_id=run.id\n",
    "    )\n",
    "\n",
    "if run.status == 'completed':\n",
    "  messages = client.beta.threads.messages.list(\n",
    "    thread_id=thread.id\n",
    "  )\n",
    "  print(\"ja\")\n",
    "  print(messages)\n",
    "elif run.status == 'requires_action':\n",
    "  # the assistant requires calling some functions\n",
    "  # and submit the tool outputs back to the run\n",
    "  pass\n",
    "else:\n",
    "  print(run.status)"
   ]
  }
 ],
 "metadata": {
  "kernelspec": {
   "display_name": "Python 3",
   "language": "python",
   "name": "python3"
  },
  "language_info": {
   "codemirror_mode": {
    "name": "ipython",
    "version": 3
   },
   "file_extension": ".py",
   "mimetype": "text/x-python",
   "name": "python",
   "nbconvert_exporter": "python",
   "pygments_lexer": "ipython3",
   "version": "3.11.9"
  }
 },
 "nbformat": 4,
 "nbformat_minor": 2
}
